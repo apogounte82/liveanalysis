{
 "cells": [
  {
   "cell_type": "code",
   "execution_count": 3,
   "metadata": {},
   "outputs": [],
   "source": [
    "# Importing our libraries\n",
    "import matplotlib.pyplot as plt\n",
    "import pandas as pd\n",
    "import numpy as np\n",
    "import seaborn as sb\n",
    "from pandas import Series, DataFrame\n",
    "%matplotlib inline\n"
   ]
  },
  {
   "cell_type": "code",
   "execution_count": 4,
   "metadata": {
    "collapsed": true
   },
   "outputs": [],
   "source": [
    "# Reading our dataset\n",
    "dataset = pd.read_excel('C:\\ΑΠΟΣΤΟΛΗΣ\\ΑΠΟΣΤΟΛΗΣ\\BET\\LIVE1STHALF.xlsx')\n"
   ]
  },
  {
   "cell_type": "code",
   "execution_count": 5,
   "metadata": {},
   "outputs": [
    {
     "data": {
      "text/html": [
       "<div>\n",
       "<style>\n",
       "    .dataframe thead tr:only-child th {\n",
       "        text-align: right;\n",
       "    }\n",
       "\n",
       "    .dataframe thead th {\n",
       "        text-align: left;\n",
       "    }\n",
       "\n",
       "    .dataframe tbody tr th {\n",
       "        vertical-align: top;\n",
       "    }\n",
       "</style>\n",
       "<table border=\"1\" class=\"dataframe\">\n",
       "  <thead>\n",
       "    <tr style=\"text-align: right;\">\n",
       "      <th></th>\n",
       "      <th>Handicap</th>\n",
       "      <th>GL</th>\n",
       "      <th>HAT_GL</th>\n",
       "      <th>ODD32</th>\n",
       "      <th>OD37</th>\n",
       "      <th>OD38</th>\n",
       "      <th>ODD39</th>\n",
       "      <th>ODD40</th>\n",
       "      <th>Drop1</th>\n",
       "      <th>Drop2</th>\n",
       "      <th>...</th>\n",
       "      <th>SofH39</th>\n",
       "      <th>SofH40</th>\n",
       "      <th>SofA28</th>\n",
       "      <th>SofA32</th>\n",
       "      <th>SofA36</th>\n",
       "      <th>SofA37</th>\n",
       "      <th>SofA38</th>\n",
       "      <th>SofA39</th>\n",
       "      <th>SofA40</th>\n",
       "      <th>synsotont40</th>\n",
       "    </tr>\n",
       "  </thead>\n",
       "  <tbody>\n",
       "    <tr>\n",
       "      <th>0</th>\n",
       "      <td>3.50</td>\n",
       "      <td>9.50</td>\n",
       "      <td>4.25</td>\n",
       "      <td>0</td>\n",
       "      <td>0.00</td>\n",
       "      <td>0.00</td>\n",
       "      <td>0.00</td>\n",
       "      <td>0.00</td>\n",
       "      <td>1</td>\n",
       "      <td>1</td>\n",
       "      <td>...</td>\n",
       "      <td>0</td>\n",
       "      <td>0</td>\n",
       "      <td>0</td>\n",
       "      <td>0</td>\n",
       "      <td>0</td>\n",
       "      <td>0</td>\n",
       "      <td>0</td>\n",
       "      <td>0</td>\n",
       "      <td>0</td>\n",
       "      <td>10</td>\n",
       "    </tr>\n",
       "    <tr>\n",
       "      <th>1</th>\n",
       "      <td>4.50</td>\n",
       "      <td>9.50</td>\n",
       "      <td>4.00</td>\n",
       "      <td>0</td>\n",
       "      <td>0.00</td>\n",
       "      <td>0.00</td>\n",
       "      <td>0.00</td>\n",
       "      <td>0.00</td>\n",
       "      <td>2</td>\n",
       "      <td>2</td>\n",
       "      <td>...</td>\n",
       "      <td>0</td>\n",
       "      <td>0</td>\n",
       "      <td>0</td>\n",
       "      <td>0</td>\n",
       "      <td>0</td>\n",
       "      <td>0</td>\n",
       "      <td>0</td>\n",
       "      <td>0</td>\n",
       "      <td>0</td>\n",
       "      <td>11</td>\n",
       "    </tr>\n",
       "    <tr>\n",
       "      <th>2</th>\n",
       "      <td>4.50</td>\n",
       "      <td>9.50</td>\n",
       "      <td>4.00</td>\n",
       "      <td>0</td>\n",
       "      <td>0.00</td>\n",
       "      <td>0.00</td>\n",
       "      <td>0.00</td>\n",
       "      <td>0.00</td>\n",
       "      <td>0</td>\n",
       "      <td>0</td>\n",
       "      <td>...</td>\n",
       "      <td>0</td>\n",
       "      <td>0</td>\n",
       "      <td>0</td>\n",
       "      <td>0</td>\n",
       "      <td>0</td>\n",
       "      <td>0</td>\n",
       "      <td>0</td>\n",
       "      <td>0</td>\n",
       "      <td>0</td>\n",
       "      <td>8</td>\n",
       "    </tr>\n",
       "    <tr>\n",
       "      <th>3</th>\n",
       "      <td>-7.75</td>\n",
       "      <td>8.75</td>\n",
       "      <td>3.75</td>\n",
       "      <td>2.05</td>\n",
       "      <td>1.75</td>\n",
       "      <td>1.85</td>\n",
       "      <td>2.05</td>\n",
       "      <td>2.25</td>\n",
       "      <td>20</td>\n",
       "      <td>23</td>\n",
       "      <td>...</td>\n",
       "      <td>7</td>\n",
       "      <td>7</td>\n",
       "      <td>0</td>\n",
       "      <td>0</td>\n",
       "      <td>0</td>\n",
       "      <td>0</td>\n",
       "      <td>0</td>\n",
       "      <td>0</td>\n",
       "      <td>0</td>\n",
       "      <td>11</td>\n",
       "    </tr>\n",
       "    <tr>\n",
       "      <th>4</th>\n",
       "      <td>0.50</td>\n",
       "      <td>8.50</td>\n",
       "      <td>3.50</td>\n",
       "      <td>0</td>\n",
       "      <td>0.00</td>\n",
       "      <td>0.00</td>\n",
       "      <td>0.00</td>\n",
       "      <td>0.00</td>\n",
       "      <td>0</td>\n",
       "      <td>0</td>\n",
       "      <td>...</td>\n",
       "      <td>0</td>\n",
       "      <td>0</td>\n",
       "      <td>0</td>\n",
       "      <td>0</td>\n",
       "      <td>0</td>\n",
       "      <td>0</td>\n",
       "      <td>0</td>\n",
       "      <td>0</td>\n",
       "      <td>0</td>\n",
       "      <td>10</td>\n",
       "    </tr>\n",
       "  </tbody>\n",
       "</table>\n",
       "<p>5 rows × 68 columns</p>\n",
       "</div>"
      ],
      "text/plain": [
       "   Handicap    GL  HAT_GL ODD32  OD37  OD38  ODD39  ODD40  Drop1  Drop2  \\\n",
       "0      3.50  9.50    4.25     0  0.00  0.00   0.00   0.00      1      1   \n",
       "1      4.50  9.50    4.00     0  0.00  0.00   0.00   0.00      2      2   \n",
       "2      4.50  9.50    4.00     0  0.00  0.00   0.00   0.00      0      0   \n",
       "3     -7.75  8.75    3.75  2.05  1.75  1.85   2.05   2.25     20     23   \n",
       "4      0.50  8.50    3.50     0  0.00  0.00   0.00   0.00      0      0   \n",
       "\n",
       "      ...      SofH39 SofH40  SofA28  SofA32 SofA36 SofA37  SofA38 SofA39  \\\n",
       "0     ...           0      0       0       0      0      0       0      0   \n",
       "1     ...           0      0       0       0      0      0       0      0   \n",
       "2     ...           0      0       0       0      0      0       0      0   \n",
       "3     ...           7      7       0       0      0      0       0      0   \n",
       "4     ...           0      0       0       0      0      0       0      0   \n",
       "\n",
       "  SofA40  synsotont40  \n",
       "0      0           10  \n",
       "1      0           11  \n",
       "2      0            8  \n",
       "3      0           11  \n",
       "4      0           10  \n",
       "\n",
       "[5 rows x 68 columns]"
      ]
     },
     "execution_count": 5,
     "metadata": {},
     "output_type": "execute_result"
    }
   ],
   "source": [
    "# Our goal is to explore the possibility of placing live bets , during the first half of  a \n",
    "# football game, and particularly after the 35th minute.In other words we want to predict \n",
    "# a late first half goal. But first let's explore our data\n",
    "dataset.head()"
   ]
  },
  {
   "cell_type": "code",
   "execution_count": 6,
   "metadata": {
    "collapsed": true
   },
   "outputs": [],
   "source": [
    "dataset = dataset.drop_duplicates()"
   ]
  },
  {
   "cell_type": "code",
   "execution_count": 7,
   "metadata": {},
   "outputs": [
    {
     "data": {
      "text/plain": [
       "Handicap           0\n",
       "GL                 0\n",
       "HAT_GL             0\n",
       "ODD32              0\n",
       "OD37               0\n",
       "OD38               0\n",
       "ODD39              0\n",
       "ODD40              0\n",
       "Drop1              0\n",
       "Drop2              0\n",
       "ODD82              0\n",
       "ODD87              0\n",
       "NEWHNDCP           0\n",
       "ODD40ROUNDED       0\n",
       "H37                0\n",
       "A37                0\n",
       "G37             1165\n",
       "H38                0\n",
       "A38                0\n",
       "G38              704\n",
       "H39                0\n",
       "A39                0\n",
       "G39              393\n",
       "H40                0\n",
       "A40                0\n",
       "G40                0\n",
       "DH32               0\n",
       "Dh36               0\n",
       "DH37               0\n",
       "DH38               0\n",
       "                ... \n",
       "DA40               0\n",
       "SoTH28             0\n",
       "SoTH32             0\n",
       "SoTH36             0\n",
       "SoTH37             0\n",
       "SoTH38             0\n",
       "SoTH39             0\n",
       "SoTH40             0\n",
       "SoTA28             0\n",
       "SoTA32             0\n",
       "SoTA36             0\n",
       "SoTA37             0\n",
       "SoTA38             0\n",
       "SoTA39             0\n",
       "SoTA40             0\n",
       "SofH28             0\n",
       "SofH32             0\n",
       "SofH36             0\n",
       "SofH37             0\n",
       "SofH38             0\n",
       "SofH39             0\n",
       "SofH40             0\n",
       "SofA28             0\n",
       "SofA32             0\n",
       "SofA36             0\n",
       "SofA37             0\n",
       "SofA38             0\n",
       "SofA39             0\n",
       "SofA40             0\n",
       "synsotont40        0\n",
       "Length: 68, dtype: int64"
      ]
     },
     "execution_count": 7,
     "metadata": {},
     "output_type": "execute_result"
    }
   ],
   "source": [
    "dataset.isnull().sum()"
   ]
  },
  {
   "cell_type": "code",
   "execution_count": 8,
   "metadata": {
    "collapsed": true
   },
   "outputs": [],
   "source": [
    "# We will drop the rows with missing values in particular columns that we detected that are problematic\n",
    "dataset.dropna(subset = ['HAT_GL','NEWHNDCP','ODD40ROUNDED', 'G37', 'G38' , 'G39'] , inplace = True)\n"
   ]
  },
  {
   "cell_type": "code",
   "execution_count": 9,
   "metadata": {},
   "outputs": [
    {
     "data": {
      "text/plain": [
       "Handicap        0\n",
       "GL              0\n",
       "HAT_GL          0\n",
       "ODD32           0\n",
       "OD37            0\n",
       "OD38            0\n",
       "ODD39           0\n",
       "ODD40           0\n",
       "Drop1           0\n",
       "Drop2           0\n",
       "ODD82           0\n",
       "ODD87           0\n",
       "NEWHNDCP        0\n",
       "ODD40ROUNDED    0\n",
       "H37             0\n",
       "A37             0\n",
       "G37             0\n",
       "H38             0\n",
       "A38             0\n",
       "G38             0\n",
       "H39             0\n",
       "A39             0\n",
       "G39             0\n",
       "H40             0\n",
       "A40             0\n",
       "G40             0\n",
       "DH32            0\n",
       "Dh36            0\n",
       "DH37            0\n",
       "DH38            0\n",
       "               ..\n",
       "DA40            0\n",
       "SoTH28          0\n",
       "SoTH32          0\n",
       "SoTH36          0\n",
       "SoTH37          0\n",
       "SoTH38          0\n",
       "SoTH39          0\n",
       "SoTH40          0\n",
       "SoTA28          0\n",
       "SoTA32          0\n",
       "SoTA36          0\n",
       "SoTA37          0\n",
       "SoTA38          0\n",
       "SoTA39          0\n",
       "SoTA40          0\n",
       "SofH28          0\n",
       "SofH32          0\n",
       "SofH36          0\n",
       "SofH37          0\n",
       "SofH38          0\n",
       "SofH39          0\n",
       "SofH40          0\n",
       "SofA28          0\n",
       "SofA32          0\n",
       "SofA36          0\n",
       "SofA37          0\n",
       "SofA38          0\n",
       "SofA39          0\n",
       "SofA40          0\n",
       "synsotont40     0\n",
       "Length: 68, dtype: int64"
      ]
     },
     "execution_count": 9,
     "metadata": {},
     "output_type": "execute_result"
    }
   ],
   "source": [
    "# Let's verify\n",
    "dataset.isnull().sum()"
   ]
  },
  {
   "cell_type": "code",
   "execution_count": 10,
   "metadata": {
    "collapsed": true
   },
   "outputs": [],
   "source": [
    "# Now, we create a column with the sum of goals scored at the 37th mimute. H37 is Home goals at 37th minute, A37 \n",
    "# stands for Away goals at 37th minute. Respectively, H38 , A38 for the 38th minute, etc\n",
    "dataset['goalssum37'] = dataset['H37'] + dataset['A37']\n",
    "dataset['goalssum38'] = dataset['H38'] + dataset['A38']\n",
    "dataset['goalssum39'] = dataset['H39'] + dataset['A39']\n",
    "dataset['goalssum40'] = dataset['H40'] + dataset['A40']"
   ]
  },
  {
   "cell_type": "code",
   "execution_count": 11,
   "metadata": {},
   "outputs": [
    {
     "data": {
      "text/plain": [
       "<matplotlib.axes._subplots.AxesSubplot at 0x7d20908>"
      ]
     },
     "execution_count": 11,
     "metadata": {},
     "output_type": "execute_result"
    },
    {
     "data": {
      "image/png": "[encoded data removed]",
      "text/plain": [
       "<matplotlib.figure.Figure at 0x7d20198>"
      ]
     },
     "metadata": {},
     "output_type": "display_data"
    }
   ],
   "source": [
    "# We will verify the \"obvious\". As we proceed to the end of the half time, no matter what the score is, the probability of \n",
    "# a goal being scored decreases(???) prob37 is the probability of a goal between 37th minute and the end of 1st half. \n",
    "# Respectively we construct prob38, prob39 and prob40. G37, G37,G39, G40 has a value of 1, if indeed a goal was scored, \n",
    "# and a 0 if not.\n",
    "\n",
    "prob37 = dataset['G37'].mean()\n",
    "prob38 = dataset['G38'].mean()\n",
    "prob39 = dataset['G39'].mean()\n",
    "prob40 = dataset['G40'].mean()\n",
    "\n",
    "probs = [prob37,prob38,prob39,prob40]\n",
    "minutes = [37,38,39,40]\n",
    "\n",
    "probsdf = DataFrame()\n",
    "probsdf['minutes'] = minutes\n",
    "probsdf['probs'] = probs\n",
    "sb.regplot(x= 'minutes' , y = 'probs' , data = probsdf)\n"
   ]
  },
  {
   "cell_type": "code",
   "execution_count": 12,
   "metadata": {},
   "outputs": [
    {
     "data": {
      "text/plain": [
       "(-0.99881233524921209, 0.0011876647507879092)"
      ]
     },
     "execution_count": 12,
     "metadata": {},
     "output_type": "execute_result"
    }
   ],
   "source": [
    "# There seems to be a strong negative correlation.  Let's confirm it\n",
    "from scipy.stats.stats  import pearsonr\n",
    "pearsonr(probsdf['minutes'] , probsdf['probs'])\n"
   ]
  },
  {
   "cell_type": "code",
   "execution_count": null,
   "metadata": {
    "collapsed": true
   },
   "outputs": [],
   "source": [
    "# pearson r = -0.99  and p-value = 0.0012, so indeed, as we come closer to the end of the 1st half, the probability of a goal \n",
    "# scored, decreases substantially"
   ]
  },
  {
   "cell_type": "code",
   "execution_count": 13,
   "metadata": {},
   "outputs": [
    {
     "data": {
      "text/plain": [
       "<matplotlib.axes._subplots.AxesSubplot at 0x7cd41d0>"
      ]
     },
     "execution_count": 13,
     "metadata": {},
     "output_type": "execute_result"
    },
    {
     "data": {
      "image/png": "[encoded data removed]",
      "text/plain": [
       "<matplotlib.figure.Figure at 0x7ce5a90>"
      ]
     },
     "metadata": {},
     "output_type": "display_data"
    }
   ],
   "source": [
    "# Of course, the probability should change , depending on the exelixis of the match so far. \n",
    "# We will create a pivot table to detect  the probabibility for all the scores at 37th minute\n",
    "# But first let's see the frequency of the sum of goals at 37th minute\n",
    "dataset['goalssum37'].value_counts().plot(kind = 'bar')"
   ]
  },
  {
   "cell_type": "code",
   "execution_count": 14,
   "metadata": {
    "collapsed": true
   },
   "outputs": [],
   "source": [
    "# As we can see, 4+ goals is very rare. Let's make  subset, that contains only 3 goals or less\n",
    "subset37 = dataset[dataset['goalssum37'] <= 3]"
   ]
  },
  {
   "cell_type": "code",
   "execution_count": 15,
   "metadata": {},
   "outputs": [
    {
     "data": {
      "text/plain": [
       "<matplotlib.axes._subplots.AxesSubplot at 0x1e6c0cf8>"
      ]
     },
     "execution_count": 15,
     "metadata": {},
     "output_type": "execute_result"
    },
    {
     "data": {
      "image/png": "[encoded data removed]",
      "text/plain": [
       "<matplotlib.figure.Figure at 0x1e6ae470>"
      ]
     },
     "metadata": {},
     "output_type": "display_data"
    }
   ],
   "source": [
    "# For every possible score at the 37th  minute, we will get the probability of a goal scored \n",
    "# till the end of 1st half.We will use a pivot table.\n",
    "subset37.pivot_table(index = ['H37', 'A37'] , values = 'G37').plot(kind = 'bar')"
   ]
  },
  {
   "cell_type": "code",
   "execution_count": 16,
   "metadata": {},
   "outputs": [
    {
     "name": "stderr",
     "output_type": "stream",
     "text": [
      "C:\\Users\\tolaros\\Anaconda3\\lib\\site-packages\\ipykernel_launcher.py:6: UserWarning: Boolean Series key will be reindexed to match DataFrame index.\n",
      "  \n"
     ]
    },
    {
     "data": {
      "text/plain": [
       "<matplotlib.axes._subplots.AxesSubplot at 0x1e6cf908>"
      ]
     },
     "execution_count": 16,
     "metadata": {},
     "output_type": "execute_result"
    },
    {
     "data": {
      "image/png": "[encoded data removed]",
      "text/plain": [
       "<matplotlib.figure.Figure at 0x1e53c550>"
      ]
     },
     "metadata": {},
     "output_type": "display_data"
    }
   ],
   "source": [
    "# It would be fair to say that, for instance, if the score is 2-0 at 37th minute\n",
    "#(the prob of a goal being scored is 27.7%), if the offered odd is greater than 1/0.277 = 3.6,\n",
    "# then I should place a bet. But what about the offered odds, at 37th minute? Let us see the \n",
    "# distribution. The'OD37' column, contains the odds we are interested in. twonil is a subset, \n",
    "# where the score at the 37th minute is 2-0\n",
    "twonil = subset37[subset37['H37'] == 2][subset37['A37'] == 0]\n",
    "twonil['OD37'].value_counts().sort_index().plot(kind = 'bar')"
   ]
  },
  {
   "cell_type": "code",
   "execution_count": 24,
   "metadata": {},
   "outputs": [
    {
     "data": {
      "text/plain": [
       "3.485924528301974"
      ]
     },
     "execution_count": 24,
     "metadata": {},
     "output_type": "execute_result"
    }
   ],
   "source": [
    "# Not so well defined, because we have many different odds at 37th minute.Nevertheless we could say that it reminds somehow \n",
    "# of a normal distribution. The mean odd is\n",
    "twonil['OD37'].mean()"
   ]
  },
  {
   "cell_type": "code",
   "execution_count": 26,
   "metadata": {},
   "outputs": [
    {
     "name": "stdout",
     "output_type": "stream",
     "text": [
      "-0.022662889518410112\n"
     ]
    },
    {
     "name": "stderr",
     "output_type": "stream",
     "text": [
      "C:\\Users\\tolaros\\Anaconda3\\lib\\site-packages\\ipykernel_launcher.py:9: SettingWithCopyWarning: \n",
      "A value is trying to be set on a copy of a slice from a DataFrame.\n",
      "Try using .loc[row_indexer,col_indexer] = value instead\n",
      "\n",
      "See the caveats in the documentation: http://pandas.pydata.org/pandas-docs/stable/indexing.html#indexing-view-versus-copy\n",
      "  if __name__ == '__main__':\n"
     ]
    }
   ],
   "source": [
    "# Maybe we have a chance, because the mean odd is very close to the fair odd. Let's calculate our ROI, \n",
    "# assuming that we bet 1 euro at each game that  is 2-0 at 37th minute, and the offered odd is equal \n",
    "# or greater than 3.6\n",
    "twonilfairodds = twonil[twonil['OD37'] >3.59]\n",
    "\n",
    "# If agoal IS scored, the G37 column has a value of 1.If no goal is scored then G37 has a value of 0. So I will\n",
    "# make a new column,named profit, multiplying G37 with the offered odd. The sum of this column, will be the \n",
    "# money returned to us.\n",
    "twonilfairodds['profit'] = twonilfairodds['G37'] * twonilfairodds['OD37']\n",
    "ROI = (twonilfairodds['profit'].sum() / len(twonilfairodds['profit'])) -1 \n",
    "print(ROI) # So close but negative"
   ]
  },
  {
   "cell_type": "code",
   "execution_count": 27,
   "metadata": {},
   "outputs": [
    {
     "name": "stderr",
     "output_type": "stream",
     "text": [
      "C:\\Users\\tolaros\\Anaconda3\\lib\\site-packages\\ipykernel_launcher.py:6: UserWarning: Boolean Series key will be reindexed to match DataFrame index.\n",
      "  \n"
     ]
    }
   ],
   "source": [
    "# Next, let us try something difficult. Imagine a game that is  0-0  at the 40th minute. Which factors\n",
    "# could be critical for the prognosis of a goal being scored? Info from the bookies? In play stats?\n",
    "# BOTH?\n",
    "\n",
    "# Construction of a subset neilneil40\n",
    "neilneil40 = dataset[dataset['H40'] == 0][dataset['A40'] == 0]"
   ]
  },
  {
   "cell_type": "code",
   "execution_count": 28,
   "metadata": {},
   "outputs": [
    {
     "data": {
      "text/plain": [
       "<matplotlib.axes._subplots.AxesSubplot at 0x1e6c4c18>"
      ]
     },
     "execution_count": 28,
     "metadata": {},
     "output_type": "execute_result"
    },
    {
     "data": {
      "image/png": "[encoded data removed]",
      "text/plain": [
       "<matplotlib.figure.Figure at 0x80f6f28>"
      ]
     },
     "metadata": {},
     "output_type": "display_data"
    }
   ],
   "source": [
    "# let's start with what the bookmaker has to offer. HAT_GL is  the asian half time goal line. \n",
    "# Usually the greater it is, the more possible it is that there will be goals in the 1st half \n",
    "neilneil40['HAT_GL'].value_counts().sort_index().plot(kind = 'bar')"
   ]
  },
  {
   "cell_type": "code",
   "execution_count": 29,
   "metadata": {},
   "outputs": [
    {
     "data": {
      "text/plain": [
       "<matplotlib.axes._subplots.AxesSubplot at 0xc0dd3c8>"
      ]
     },
     "execution_count": 29,
     "metadata": {},
     "output_type": "execute_result"
    },
    {
     "data": {
      "image/png": "[encoded data removed]",
      "text/plain": [
       "<matplotlib.figure.Figure at 0x7fd7438>"
      ]
     },
     "metadata": {},
     "output_type": "display_data"
    }
   ],
   "source": [
    "# Let's see a graph of the probability of a goal scored and each HAT_GL price\n",
    "pv40 = neilneil40.pivot_table(index = 'HAT_GL' , values = 'G40')\n",
    "pv40['HAT_GL'] = pv40.index\n",
    "sb.regplot(x= 'HAT_GL' , y = 'G40' , data = pv40 )"
   ]
  },
  {
   "cell_type": "code",
   "execution_count": 31,
   "metadata": {},
   "outputs": [
    {
     "data": {
      "text/plain": [
       "<matplotlib.axes._subplots.AxesSubplot at 0xc344c18>"
      ]
     },
     "execution_count": 31,
     "metadata": {},
     "output_type": "execute_result"
    },
    {
     "data": {
      "image/png": "[encoded data removed]",
      "text/plain": [
       "<matplotlib.figure.Figure at 0xc494b00>"
      ]
     },
     "metadata": {},
     "output_type": "display_data"
    }
   ],
   "source": [
    "# WE detect a positive correlation, but remember EVERYTHING is a matter of value. For example, \n",
    "# if HAT_GL = 1.5 ,there is a 24.32 %( fair odd 4.11)  chance that a goal will be scored. But, \n",
    "# what is the odd offered,  for this circumstance? Let us see\n",
    "neilneil40test = neilneil40[neilneil40['HAT_GL'] == 1.5]\n",
    "# the 'ODD40ROUNDED' column, contains the odds at 40th minute, with a 0.5 step (3,3.5,4,4.5,etc)\n",
    "neilneil40test['ODD40ROUNDED'].value_counts().sort_index().plot(kind = 'bar')\n",
    "\n"
   ]
  },
  {
   "cell_type": "code",
   "execution_count": 34,
   "metadata": {},
   "outputs": [
    {
     "name": "stdout",
     "output_type": "stream",
     "text": [
      "0.016881638846737435\n"
     ]
    },
    {
     "name": "stderr",
     "output_type": "stream",
     "text": [
      "C:\\Users\\tolaros\\Anaconda3\\lib\\site-packages\\ipykernel_launcher.py:6: SettingWithCopyWarning: \n",
      "A value is trying to be set on a copy of a slice from a DataFrame.\n",
      "Try using .loc[row_indexer,col_indexer] = value instead\n",
      "\n",
      "See the caveats in the documentation: http://pandas.pydata.org/pandas-docs/stable/indexing.html#indexing-view-versus-copy\n",
      "  \n"
     ]
    }
   ],
   "source": [
    "# We can assume that maybe there is a chance, because the majority of the offered odds is around 4.5\n",
    "# a little bit greater than the fair odd. We will create a subset, where the odds are at least 4.5\n",
    "fairodds = neilneil40test[neilneil40test['ODD40ROUNDED'] >4.49]\n",
    "# If agoal IS scored, the G40 column has a value of 1. So I will make a new column, multiplying\n",
    "# G40 with the offered odd. The sum of this column, will be the money returned to us.\n",
    "fairodds['profit'] = fairodds['G40'] * fairodds['ODD40ROUNDED']\n",
    "ROI = (fairodds['profit'].sum() / len(fairodds['profit'])) -1 \n",
    "print(ROI)\n",
    "\n"
   ]
  },
  {
   "cell_type": "code",
   "execution_count": 35,
   "metadata": {},
   "outputs": [
    {
     "data": {
      "text/plain": [
       "<matplotlib.axes._subplots.AxesSubplot at 0xd36d898>"
      ]
     },
     "execution_count": 35,
     "metadata": {},
     "output_type": "execute_result"
    },
    {
     "data": {
      "image/png": "[encoded data removed]",
      "text/plain": [
       "<matplotlib.figure.Figure at 0xd3c1668>"
      ]
     },
     "metadata": {},
     "output_type": "display_data"
    }
   ],
   "source": [
    "# Now we will do the same for the GL column. This is the asian handicap for the 90 minutes sum of goals\n",
    "# Again the greater it is , more goals will probably be scored\n",
    "neilneil40['GL'].value_counts().sort_index().plot(kind = 'bar')"
   ]
  },
  {
   "cell_type": "code",
   "execution_count": 36,
   "metadata": {},
   "outputs": [
    {
     "data": {
      "text/plain": [
       "(0.77822922376353709, 7.5573886688966494e-06)"
      ]
     },
     "execution_count": 36,
     "metadata": {},
     "output_type": "execute_result"
    },
    {
     "data": {
      "image/png": "[encoded data removed]",
      "text/plain": [
       "<matplotlib.figure.Figure at 0xd5ecd68>"
      ]
     },
     "metadata": {},
     "output_type": "display_data"
    }
   ],
   "source": [
    "# Let's see a graph of the probability and each GL price\n",
    "pvGL = neilneil40.pivot_table(index = 'GL' , values = 'G40')\n",
    "pvGL['GL'] = pvGL.index\n",
    "sb.regplot(x= 'GL' , y = 'G40' , data = pvGL ) # positive and strong correlation, again we can see that the bookies know better\n",
    "pearsonr(pvGL['GL'], pvGL['G40'])"
   ]
  },
  {
   "cell_type": "code",
   "execution_count": 37,
   "metadata": {},
   "outputs": [
    {
     "data": {
      "text/plain": [
       "<matplotlib.axes._subplots.AxesSubplot at 0x1e51a0f0>"
      ]
     },
     "execution_count": 37,
     "metadata": {},
     "output_type": "execute_result"
    },
    {
     "data": {
      "image/png": "[encoded data removed]",
      "text/plain": [
       "<matplotlib.figure.Figure at 0xd44ab38>"
      ]
     },
     "metadata": {},
     "output_type": "display_data"
    }
   ],
   "source": [
    "# We will do all of the above for the ODD40ROUNDED column. We have the odds at 40th minute, \n",
    "# rounded at 0.5 level.\n",
    "neilneil40['ODD40ROUNDED'].value_counts().sort_index().plot(kind = 'bar')"
   ]
  },
  {
   "cell_type": "code",
   "execution_count": 38,
   "metadata": {},
   "outputs": [
    {
     "name": "stderr",
     "output_type": "stream",
     "text": [
      "C:\\Users\\tolaros\\Anaconda3\\lib\\site-packages\\ipykernel_launcher.py:2: UserWarning: Boolean Series key will be reindexed to match DataFrame index.\n",
      "  \n"
     ]
    }
   ],
   "source": [
    "# We will narrow the prices of 'ODD40ROUNDED' between 4 and 8\n",
    "narrowed = neilneil40[neilneil40['ODD40ROUNDED'] < 8][neilneil40['ODD40ROUNDED']  >3.99]"
   ]
  },
  {
   "cell_type": "code",
   "execution_count": 39,
   "metadata": {},
   "outputs": [
    {
     "data": {
      "text/plain": [
       "(-0.92095555187190814, 0.0011626404218594961)"
      ]
     },
     "execution_count": 39,
     "metadata": {},
     "output_type": "execute_result"
    },
    {
     "data": {
      "image/png": "[encoded data removed]",
      "text/plain": [
       "<matplotlib.figure.Figure at 0x802c390>"
      ]
     },
     "metadata": {},
     "output_type": "display_data"
    }
   ],
   "source": [
    "# Let's see a graph of the probability and each ODD40ROUNDED price\n",
    "pvODD = narrowed.pivot_table(index = 'ODD40ROUNDED' , values = 'G40')\n",
    "pvODD['ODD40ROUNDED'] = pvODD.index\n",
    "sb.regplot(x= 'ODD40ROUNDED' , y = 'G40' , data = pvODD ) \n",
    "pearsonr(pvODD['ODD40ROUNDED'], pvODD['G40'])  # strong negative correlation, as expected"
   ]
  },
  {
   "cell_type": "code",
   "execution_count": 40,
   "metadata": {
    "collapsed": true
   },
   "outputs": [],
   "source": [
    "# Next, I want to investigate a simple belief. Does the probability of a goal being scored increase,\n",
    "# while the totalshots made by the two teams increase? I will create a new column, totshoton, meaning total shots on target\n",
    "neilneil40['totshoton'] = neilneil40['SoTH40'] + neilneil40['SoTA40']"
   ]
  },
  {
   "cell_type": "code",
   "execution_count": 41,
   "metadata": {},
   "outputs": [
    {
     "data": {
      "text/plain": [
       "<matplotlib.axes._subplots.AxesSubplot at 0xd358cc0>"
      ]
     },
     "execution_count": 41,
     "metadata": {},
     "output_type": "execute_result"
    },
    {
     "data": {
      "image/png": "[encoded data removed]",
      "text/plain": [
       "<matplotlib.figure.Figure at 0x806bf60>"
      ]
     },
     "metadata": {},
     "output_type": "display_data"
    }
   ],
   "source": [
    "# Exploration of totshoton\n",
    "neilneil40['totshoton'].value_counts().sort_index().plot(kind = 'bar')"
   ]
  },
  {
   "cell_type": "code",
   "execution_count": 42,
   "metadata": {},
   "outputs": [
    {
     "data": {
      "text/plain": [
       "(0.96864836790534248, 1.7423485941491753e-05)"
      ]
     },
     "execution_count": 42,
     "metadata": {},
     "output_type": "execute_result"
    },
    {
     "data": {
      "image/png": "[encoded data removed]",
      "text/plain": [
       "<matplotlib.figure.Figure at 0xd5ceb38>"
      ]
     },
     "metadata": {},
     "output_type": "display_data"
    }
   ],
   "source": [
    "# We will drop all games that have more than 8 shots on target, because they have very very low frequency. After that, we consy=truct a pivot table\n",
    "# to comment on the prob of goal scored and the total shots on target\n",
    "subset = neilneil40[neilneil40['totshoton'] < 9]\n",
    "pvshon = subset.pivot_table(index = 'totshoton' , values = 'G40')\n",
    "pvshon['totshoton'] = pvshon.index\n",
    "sb.regplot(x= 'totshoton' , y = 'G40' , data = pvshon ) \n",
    "pearsonr(pvshon['totshoton'], pvshon['G40']) # very strong correlation"
   ]
  },
  {
   "cell_type": "code",
   "execution_count": 43,
   "metadata": {},
   "outputs": [
    {
     "data": {
      "text/plain": [
       "<matplotlib.axes._subplots.AxesSubplot at 0xbf56cf8>"
      ]
     },
     "execution_count": 43,
     "metadata": {},
     "output_type": "execute_result"
    },
    {
     "data": {
      "image/png": "[encoded data removed]",
      "text/plain": [
       "<matplotlib.figure.Figure at 0xc18d898>"
      ]
     },
     "metadata": {},
     "output_type": "display_data"
    }
   ],
   "source": [
    "# Exploration of subset2, where totshoton = 6 and probability is 22.56 %,meaning a fair odd would be 4.43\n",
    "subset2 = subset[subset['totshoton'] == 6]\n",
    "subset2['ODD40ROUNDED'].mean()\n",
    "subset2['ODD40ROUNDED'].value_counts().sort_index().plot(kind = 'bar')"
   ]
  },
  {
   "cell_type": "code",
   "execution_count": 45,
   "metadata": {},
   "outputs": [
    {
     "name": "stdout",
     "output_type": "stream",
     "text": [
      "0.08438685208596719\n"
     ]
    },
    {
     "name": "stderr",
     "output_type": "stream",
     "text": [
      "C:\\Users\\tolaros\\Anaconda3\\lib\\site-packages\\ipykernel_launcher.py:4: SettingWithCopyWarning: \n",
      "A value is trying to be set on a copy of a slice from a DataFrame.\n",
      "Try using .loc[row_indexer,col_indexer] = value instead\n",
      "\n",
      "See the caveats in the documentation: http://pandas.pydata.org/pandas-docs/stable/indexing.html#indexing-view-versus-copy\n",
      "  after removing the cwd from sys.path.\n"
     ]
    }
   ],
   "source": [
    "# The majority of the offerd odds are between 4.5 and 6.5, with a mean value of 5.16, which is above fair\n",
    "# Let us now evaluate the ROI, if we placed a bet on each game with an odd greater or equal to 4.5\n",
    "fairodds2 = subset2[subset2['ODD40ROUNDED'] >4.49]\n",
    "fairodds2['profit'] = fairodds2['G40'] * fairodds2['ODD40ROUNDED']\n",
    "ROI = (fairodds2['profit'].sum() / len(fairodds2['profit'])) -1 \n",
    "print(ROI)# 8% ROI"
   ]
  },
  {
   "cell_type": "code",
   "execution_count": null,
   "metadata": {
    "collapsed": true
   },
   "outputs": [],
   "source": []
  }
 ],
 "metadata": {
  "kernelspec": {
   "display_name": "Python 3",
   "language": "python",
   "name": "python3"
  },
  "language_info": {
   "codemirror_mode": {
    "name": "ipython",
    "version": 3
   },
   "file_extension": ".py",
   "mimetype": "text/x-python",
   "name": "python",
   "nbconvert_exporter": "python",
   "pygments_lexer": "ipython3",
   "version": "3.6.3"
  }
 },
 "nbformat": 4,
 "nbformat_minor": 2
}
